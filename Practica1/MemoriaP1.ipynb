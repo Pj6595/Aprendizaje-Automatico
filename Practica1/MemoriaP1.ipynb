{
 "cells": [
  {
   "cell_type": "markdown",
   "id": "f019c48e",
   "metadata": {},
   "source": [
    "# Práctica 1: Regresión lineal {-}\n",
    "Álvar Domingo Fernández y Pablo Jurado López"
   ]
  },
  {
   "cell_type": "markdown",
   "id": "0fa25e15",
   "metadata": {
    "tags": []
   },
   "source": [
    "---\n",
    "\n",
    "### Imports iniciales {-}\n",
    "A continuación se importan todas las librerías que serán utilizadas en esta práctica:"
   ]
  },
  {
   "cell_type": "code",
   "execution_count": 2,
   "id": "b0fd30e4",
   "metadata": {},
   "outputs": [],
   "source": [
    "import numpy as np\n",
    "import matplotlib.pyplot as plt\n",
    "from pandas.io.parsers import read_csv\n",
    "from matplotlib import cm"
   ]
  },
  {
   "cell_type": "markdown",
   "id": "06d93817",
   "metadata": {},
   "source": [
    "## 1.- Regresión lineal con una variable {-}\n",
    "A partir de un fichero con dos columnas de datos, hemos aplicado la fórmula del descenso de gradiente para minimizar la función de coste."
   ]
  },
  {
   "cell_type": "markdown",
   "id": "c72d9703",
   "metadata": {},
   "source": [
    "La siguiente función sirve para cargar los datos que vamos a utilizar desde un archivo .csv:"
   ]
  },
  {
   "cell_type": "code",
   "execution_count": null,
   "id": "fb2fb8bc",
   "metadata": {},
   "outputs": [],
   "source": [
    "def carga_csv(file_name):\n",
    "    return read_csv(file_name, header=None).to_numpy().astype(float)"
   ]
  },
  {
   "cell_type": "markdown",
   "id": "0271d21d",
   "metadata": {},
   "source": [
    "A continuación se muestra la función que aplica la fórmula del descenso de gradiente a partir de X e Y (las dos columnas de la tabla del archivo .csv que hemos leído). Como ejemplo se ha programado para que haga 1500 iteraciones, en las que se irán actualizando las componentes Θ0 y Θ1 al mismo tiempo. Cuando termine, calculará el coste utilizando la función _coste_. Finalmente, se utilizará la librería _matplotlib_ para dibujar la recta obtenida en una gráfica."
   ]
  },
  {
   "cell_type": "code",
   "execution_count": null,
   "id": "7bfb16d5",
   "metadata": {},
   "outputs": [],
   "source": [
    "def descenso_gradiente(X, Y):\n",
    "    m = len(X)\n",
    "    alpha = 0.01\n",
    "    theta_0 = theta_1 = 0\n",
    "    for _ in range(1500):\n",
    "        sum_0 = sum_1 = 0\n",
    "        for i in range(m):\n",
    "            sum_0 += (theta_0 + theta_1 * X[i]) - Y[i]\n",
    "            sum_1 += ((theta_0 + theta_1 * X[i]) - Y[i]) * X[i]\n",
    "        theta_0 = theta_0 - (alpha/m) * sum_0\n",
    "        theta_1 = theta_1 - (alpha/m) * sum_1\n",
    "    min_x = min(X)\n",
    "    max_x = max(X)\n",
    "    min_y = theta_0 + theta_1 * min_x\n",
    "    max_y = theta_0 + theta_1 * max_x\n",
    "\n",
    "    Coste = coste(X, Y, (theta_0, theta_1))\n",
    "    \n",
    "    # Dibujamos el resultado\n",
    "    plt.plot(X, Y, \"x\")\n",
    "    plt.plot([min_x, max_x], [min_y, max_y])\n",
    "    plt.savefig(\"descenso_gradiente.pdf\")\n",
    "\n",
    "    return (theta_0, theta_1), Coste"
   ]
  },
  {
   "cell_type": "markdown",
   "id": "cfd06228",
   "metadata": {},
   "source": [
    "A continuación se muestra el código de la función _coste_:"
   ]
  },
  {
   "cell_type": "code",
   "execution_count": 3,
   "id": "57954be8",
   "metadata": {},
   "outputs": [],
   "source": [
    "def coste(X, Y, Theta):\n",
    "    m = len(X)\n",
    "    sumatorio = 0\n",
    "    for i in range(m):\n",
    "        sumatorio += ((Theta[0] + Theta[1] * X[i]) - Y[i]) ** 2\n",
    "    return sumatorio / (2 * len(X))"
   ]
  },
  {
   "cell_type": "markdown",
   "id": "d6e90a8a",
   "metadata": {},
   "source": [
    "Y finalmente, la gráfica obtenida en la función del descenso de gradiente:"
   ]
  },
  {
   "cell_type": "markdown",
   "id": "31854def",
   "metadata": {},
   "source": [
    "![gráfica de la recta de regresión lineal dibujada](descenso_gradiente.png)"
   ]
  },
  {
   "cell_type": "markdown",
   "id": "b7a1ed2b",
   "metadata": {},
   "source": [
    "### 1.1- Visualización de la función de coste {-}"
   ]
  },
  {
   "cell_type": "markdown",
   "id": "6a67a047",
   "metadata": {},
   "source": [
    "Para visualizar la función de coste, hemos generado dos gráficas: una de superficie y otra de contorno.\n",
    "\n",
    "El primer paso ha sido procesar los datos iniciales dentro del rango de la gráfica que queremos hacer, y calcular el coste para cada punto de la gráfica."
   ]
  },
  {
   "cell_type": "code",
   "execution_count": null,
   "id": "9613befb",
   "metadata": {},
   "outputs": [],
   "source": [
    "def make_data(t0_range, t1_range, X, Y):\n",
    "    step = 0.1\n",
    "    Theta0 = np.arange(t0_range[0], t0_range[1], step)\n",
    "    Theta1 = np.arange(t1_range[0], t1_range[1], step)\n",
    "    Theta0, Theta1 = np.meshgrid(Theta0, Theta1)\n",
    "    Coste = np.empty_like(Theta0)\n",
    "    for ix, iy in np.ndindex(Theta0.shape):\n",
    "        Coste[ix, iy] = coste(X, Y, [Theta0[ix, iy], Theta1[ix, iy]])\n",
    "    return [Theta0, Theta1, Coste]"
   ]
  },
  {
   "cell_type": "markdown",
   "id": "7a060244",
   "metadata": {},
   "source": [
    "Con la función _dibuja_coste_ dibujamos ambas gráficas haciendo uso de la librería _matplotlib_"
   ]
  },
  {
   "cell_type": "code",
   "execution_count": null,
   "id": "cbe8e8d6",
   "metadata": {},
   "outputs": [],
   "source": [
    "def dibuja_coste(Theta0, Theta1, Coste):\n",
    "    fig = plt.figure()\n",
    "    ax = fig.gca(projection='3d')\n",
    "    surf = ax.plot_surface(Theta0, Theta1, Coste,\n",
    "                           cmap=cm.rainbow, linewidth=0, antialiased=False)\n",
    "    fig.colorbar(surf, shrink=0.5, aspect=5)\n",
    "    plt.show()\n",
    "\n",
    "    fig2 = plt.figure()\n",
    "    plt.contour(Theta0, Theta1, Coste, np.logspace(-2, 3, 20))\n",
    "    plt.show()"
   ]
  },
  {
   "cell_type": "markdown",
   "id": "a27b5eb4",
   "metadata": {},
   "source": [
    "A continuación se muestran ambas gráficas generadas por la anterior función:\n",
    "\n",
    "![gráfica del coste (superficie)](CostesSuperficie.png)\n",
    "\n",
    "![gráfica del coste (contorno)](CostesContorno.png)"
   ]
  },
  {
   "cell_type": "markdown",
   "id": "0cfc8102",
   "metadata": {},
   "source": [
    "## 2.- Regresión lineal con varias variables {-}\n",
    "A partir de un fichero con tres columnas de datos, hemos aplicado la fórmula del descenso de gradiente para minimizar la función de coste. Como los rangos de las distintas variables son muy diferentes, lo primero que hemos hecho ha sido normalizar las variables mediante la siguiente función:"
   ]
  },
  {
   "cell_type": "code",
   "execution_count": null,
   "id": "036d9cec",
   "metadata": {},
   "outputs": [],
   "source": [
    "def normalizar(X):\n",
    "    mu = X.mean(axis=0)\n",
    "    sigma = X.std(axis=0)\n",
    "    X_norm = (X - mu) / sigma\n",
    "\n",
    "    return X_norm, mu, sigma"
   ]
  },
  {
   "cell_type": "markdown",
   "id": "8fffe80c",
   "metadata": {},
   "source": [
    "La función _normalizar_ devuelve la matriz que se le haya introducido con sus valores normalizados y la media y la desviación estándar de los datos.\n",
    "\n",
    "### 2.1.- Implementación vectorizada del descenso de gradiente {-}\n",
    "\n",
    "A continuación se ha calculado el descenso de gradiente con una variante vectorizada de la función que se utilizó en el apartado 1, con el propósito de evitar iterar por cada elemento de los datos proporcionados, como haciamos en la variante iterativa:"
   ]
  },
  {
   "cell_type": "code",
   "execution_count": null,
   "id": "4c7519ff",
   "metadata": {},
   "outputs": [],
   "source": [
    "def gradiente_vec(X, Y, Theta, alpha):\n",
    "    NuevaTheta = Theta\n",
    "    m = np.shape(X)[0]\n",
    "    n = np.shape(X)[1]\n",
    "    H = np.dot(X, Theta)\n",
    "    Aux = (H - Y)\n",
    "    for i in range(n):\n",
    "        Aux_i = Aux * X[:, i]\n",
    "        NuevaTheta[i] -= (alpha / m) * Aux_i.sum()\n",
    "    return NuevaTheta"
   ]
  },
  {
   "cell_type": "markdown",
   "id": "7ce41026",
   "metadata": {},
   "source": [
    "La función _gradiente_vec_ ajusta el valor de Theta en función de los datos proporcionados y el alpha elegido.\n",
    "\n",
    "Por su parte, la función _descenso_gradiente_vec_ realiza el cálculo de _gradiente_vec_ un número determinado de iteraciones, a la vez que calcula los costes."
   ]
  },
  {
   "cell_type": "code",
   "execution_count": null,
   "id": "96b53063",
   "metadata": {},
   "outputs": [],
   "source": [
    "def descenso_gradiente_vec(X, Y, alpha):\n",
    "    Theta = np.zeros(np.shape(X)[1])\n",
    "    iteraciones = 500\n",
    "    costes = np.zeros(iteraciones)\n",
    "    for i in range(iteraciones):\n",
    "        costes[i] = coste_vectorizado(X, Y, Theta)\n",
    "        Theta = gradiente_vec(X, Y, Theta, alpha)\n",
    "\n",
    "    return Theta, costes"
   ]
  },
  {
   "cell_type": "markdown",
   "id": "c984052c",
   "metadata": {},
   "source": [
    "Para el cálculo de los costes también se ha implementado una función de coste vectorizada:"
   ]
  },
  {
   "cell_type": "code",
   "execution_count": null,
   "id": "ec1b6c1b",
   "metadata": {},
   "outputs": [],
   "source": [
    "def coste_vectorizado(X, Y, Theta):\n",
    "    H = np.dot(X, Theta)\n",
    "    Aux = (H - Y) ** 2\n",
    "    return Aux.sum() / (2*len(X))"
   ]
  },
  {
   "cell_type": "markdown",
   "id": "6984bb95",
   "metadata": {},
   "source": [
    "Con los costes que se han calculado, se ha dibujado una gráfica con _matplotlib_ que muestra la evolución de los costes según el valor de alfa con el que se calcule la función. En _apartado_2_1_ se puede ver cómo se hace el dibujo de la gráfica, además de las preparaciones iniciales para el descenso de gradiente vectorizado (se normalizan los datos de la matriz X y se le añade una columna llena de unos para que se pueda calcular Theta como producto de matrices)"
   ]
  },
  {
   "cell_type": "code",
   "execution_count": null,
   "id": "b9db147b",
   "metadata": {},
   "outputs": [],
   "source": [
    "def apartado_2_1():\n",
    "    data = carga_csv(\"ex1data2.csv\")\n",
    "    X = data[:, :-1]\n",
    "    Y = data[:, -1]\n",
    "    m = np.shape(X)[0]\n",
    "\n",
    "    X, mu, sigma = normalizar(X)\n",
    "    X = np.hstack([np.ones([m, 1]), X])\n",
    "\n",
    "    alphas = [0.3, 0.1, 0.03, 0.01]\n",
    "    colors = ['indigo', 'darkviolet', 'mediumorchid', 'plum']\n",
    "\n",
    "    plt.figure()\n",
    "\n",
    "    for i in range(len(alphas)):\n",
    "        Theta, costes = descenso_gradiente_vec(X, Y, alphas[i])\n",
    "        plt.scatter(np.arange(np.shape(costes)[\n",
    "                    0]), costes, c=colors[i], label='alpha = ' + str(alphas[i]))\n",
    "\n",
    "    plt.legend()\n",
    "    plt.savefig(\"pjbobo.png\")"
   ]
  },
  {
   "cell_type": "markdown",
   "id": "ff5b39b1",
   "metadata": {},
   "source": [
    "A continuación se muestra la gráfica obtenida por esta función:\n",
    "\n",
    "![gráfica de la comparativa de costes](ComparativaCostes.png)"
   ]
  },
  {
   "cell_type": "markdown",
   "id": "6f43a835",
   "metadata": {},
   "source": [
    "### 2.2.- Ecuación normal {-}\n",
    "Finalmente, calcularemos el valor óptimo de Theta mediante el uso de la ecuación normal, que nos evita tener que hacer bucles como en el método del descenso de gradiente. En este caso no hace falta normalizar los atributos. Para hacer el cálculo simplemente aplicamos la fórmula correspondiente en una línea de código:"
   ]
  },
  {
   "cell_type": "code",
   "execution_count": null,
   "id": "c660b2de",
   "metadata": {},
   "outputs": [],
   "source": [
    "def ecuacion_normal(X, Y):\n",
    "    Theta = np.matmul(np.matmul(np.linalg.inv(np.matmul(np.transpose(X), X)), np.transpose(X)), Y)\n",
    "    return Theta"
   ]
  },
  {
   "cell_type": "markdown",
   "id": "d29636e0",
   "metadata": {},
   "source": [
    "Una vez calculada, procederemos a comprobar si las predicciones hechas con ambas fórmulas son similares. Para ello calclularemos los valores de Theta y a partir de ellos calcularemos la predicción correspondiente con cada método, por ejemplo, para una casa con una superficie de 1650 metros cuadrados y 3 habitaciones:"
   ]
  },
  {
   "cell_type": "code",
   "execution_count": null,
   "id": "d13b8250",
   "metadata": {},
   "outputs": [],
   "source": [
    "def apartado_2_2():\n",
    "    data = carga_csv('ex1data2.csv')\n",
    "    X = data[:, :-1]\n",
    "    Y = data[:, -1]\n",
    "    m = np.shape(X)[0]\n",
    "\n",
    "    X_norm, mu, sigma = normalizar(X)\n",
    "    X_norm = np.hstack([np.ones([m, 1]), X_norm])\n",
    "\n",
    "    theta_vec, costecitos = descenso_gradiente_vec(X_norm, Y, 0.01)\n",
    "\n",
    "    X = np.hstack([np.ones([m, 1]), X])\n",
    "    theta_normal = ecuacion_normal(X, Y)\n",
    "\n",
    "    pred_normal = theta_normal[0] + \\\n",
    "        theta_normal[1] * 1650 + theta_normal[2] * 3\n",
    "    pred_gradient = theta_vec[0] + theta_vec[1] * \\\n",
    "        ((1650 - mu[0]) / sigma[0]) + theta_vec[2] * ((3 - (mu[1]) / sigma[1]))\n",
    "\n",
    "    print('Theta de ecuación normal: ', pred_normal, '\\n')\n",
    "    print('Theta de gradiente vectorizado: ', pred_gradient, '\\n')"
   ]
  },
  {
   "cell_type": "markdown",
   "id": "01222bf7",
   "metadata": {},
   "source": [
    "Ahora solo queda observar los prints que hace el programa:\n",
    "\n",
    "**Theta de ecuación normal:  293081.4643348959**\n",
    "\n",
    "**Theta de gradiente vectorizado:  299500.8939033111**\n",
    "\n",
    "Como se puede observar, los resultados son bastante similares, por lo que se ha podido llegar a la conclusión de que los cálculos realizados, tanto mediante el método de descenso de gradiente como el de la ecuación normal, son correctos."
   ]
  }
 ],
 "metadata": {
  "kernelspec": {
   "display_name": "Python 3",
   "language": "python",
   "name": "python3"
  },
  "language_info": {
   "codemirror_mode": {
    "name": "ipython",
    "version": 3
   },
   "file_extension": ".py",
   "mimetype": "text/x-python",
   "name": "python",
   "nbconvert_exporter": "python",
   "pygments_lexer": "ipython3",
   "version": "3.8.8"
  }
 },
 "nbformat": 4,
 "nbformat_minor": 5
}
