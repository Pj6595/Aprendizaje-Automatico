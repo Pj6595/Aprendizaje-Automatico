{
 "cells": [
  {
   "cell_type": "markdown",
   "id": "c9b19600-7710-4ab2-b2b4-b6e1910f781c",
   "metadata": {},
   "source": [
    "# Práctica 1: Regresión lineal\n",
    "Álvar Domingo Fernández y Pablo Jurado López"
   ]
  },
  {
   "cell_type": "markdown",
   "id": "ae9c3a34-397f-4e7c-a4bc-dc9559502199",
   "metadata": {
    "tags": []
   },
   "source": [
    "---\n",
    "\n",
    "### Imports iniciales\n",
    "A continuación se importan todas las librerías que serán utilizadas en esta práctica:"
   ]
  },
  {
   "cell_type": "code",
   "execution_count": 2,
   "id": "bd9cad17-29b0-4473-a3a8-72318d4643ae",
   "metadata": {},
   "outputs": [],
   "source": [
    "import numpy as np\n",
    "import matplotlib.pyplot as plt\n",
    "from pandas.io.parsers import read_csv\n",
    "from matplotlib import cm"
   ]
  },
  {
   "cell_type": "markdown",
   "id": "58cc366a-a5c9-4e39-b89a-9cb75bdee0fe",
   "metadata": {},
   "source": [
    "## 1.- Regresión lineal con una variable\n",
    "A partir de un fichero con dos columnas de datos, hemos aplicado la fórmula del descenso de gradiente para minimizar la función de coste."
   ]
  },
  {
   "cell_type": "markdown",
   "id": "4af52d28-4b18-49d6-8462-aeca2cf53fff",
   "metadata": {},
   "source": [
    "La siguiente función sirve para cargar los datos que vamos a utilizar desde un archivo .csv:"
   ]
  },
  {
   "cell_type": "code",
   "execution_count": null,
   "id": "be8f3d1f-59b9-4f8b-bf4e-4f75cac9f4f9",
   "metadata": {},
   "outputs": [],
   "source": [
    "def carga_csv(file_name):\n",
    "    return read_csv(file_name, header=None).to_numpy().astype(float)"
   ]
  },
  {
   "cell_type": "markdown",
   "id": "4617513a-a9ea-4e74-9856-bb5110ed90c6",
   "metadata": {},
   "source": [
    "A continuación se muestra la función que aplica la fórmula del descenso de gradiente a partir de X e Y (las dos columnas de la tabla del archivo .csv que hemos leído). Como ejemplo se ha programado para que haga 1500 iteraciones, en las que se irán actualizando las componentes Θ0 y Θ1 al mismo tiempo. Cuando termine, calculará el coste utilizando la función _coste_. Finalmente, se utilizará la librería _matplotlib_ para dibujar la recta obtenida en una gráfica."
   ]
  },
  {
   "cell_type": "code",
   "execution_count": null,
   "id": "51c94106-70da-410e-a81d-2cc7ac8d8efd",
   "metadata": {},
   "outputs": [],
   "source": [
    "def descenso_gradiente(X, Y):\n",
    "    m = len(X)\n",
    "    alpha = 0.01\n",
    "    theta_0 = theta_1 = 0\n",
    "    for _ in range(1500):\n",
    "        sum_0 = sum_1 = 0\n",
    "        for i in range(m):\n",
    "            sum_0 += (theta_0 + theta_1 * X[i]) - Y[i]\n",
    "            sum_1 += ((theta_0 + theta_1 * X[i]) - Y[i]) * X[i]\n",
    "        theta_0 = theta_0 - (alpha/m) * sum_0\n",
    "        theta_1 = theta_1 - (alpha/m) * sum_1\n",
    "    min_x = min(X)\n",
    "    max_x = max(X)\n",
    "    min_y = theta_0 + theta_1 * min_x\n",
    "    max_y = theta_0 + theta_1 * max_x\n",
    "\n",
    "    Coste = coste(X, Y, (theta_0, theta_1))\n",
    "    \n",
    "    # Dibujamos el resultado\n",
    "    plt.plot(X, Y, \"x\")\n",
    "    plt.plot([min_x, max_x], [min_y, max_y])\n",
    "    plt.savefig(\"descenso_gradiente.pdf\")\n",
    "\n",
    "    return (theta_0, theta_1), Coste"
   ]
  },
  {
   "cell_type": "markdown",
   "id": "8e1be3a6-94d8-4d18-b701-661ec9e17338",
   "metadata": {},
   "source": [
    "A continuación se muestra el código de la función _coste_:"
   ]
  },
  {
   "cell_type": "code",
   "execution_count": 3,
   "id": "621cf838-5f0f-46c9-b087-ac7e1d70fa53",
   "metadata": {},
   "outputs": [],
   "source": [
    "def coste(X, Y, Theta):\n",
    "    m = len(X)\n",
    "    sumatorio = 0\n",
    "    for i in range(m):\n",
    "        sumatorio += ((Theta[0] + Theta[1] * X[i]) - Y[i]) ** 2\n",
    "    return sumatorio / (2 * len(X))"
   ]
  },
  {
   "cell_type": "markdown",
   "id": "7d1fc722-1762-4ee3-9874-bd395929034f",
   "metadata": {},
   "source": [
    "Y finalmente, la gráfica obtenida en la función del descenso de gradiente:"
   ]
  },
  {
   "cell_type": "markdown",
   "id": "5b75abb8-f897-4176-a878-a83e29ce659c",
   "metadata": {},
   "source": [
    "![gráfica de la recta de regresión lineal dibujada](descenso_gradiente.png)"
   ]
  },
  {
   "cell_type": "markdown",
   "id": "a46277e9-ce1d-474f-b36d-63cc0ae680fe",
   "metadata": {},
   "source": [
    "### 1.1- Visualización de la función de coste"
   ]
  },
  {
   "cell_type": "code",
   "execution_count": null,
   "id": "6392957f-8315-4ad4-b4f6-b6c4c388552c",
   "metadata": {},
   "outputs": [],
   "source": []
  }
 ],
 "metadata": {
  "kernelspec": {
   "display_name": "Python 3 (ipykernel)",
   "language": "python",
   "name": "python3"
  },
  "language_info": {
   "codemirror_mode": {
    "name": "ipython",
    "version": 3
   },
   "file_extension": ".py",
   "mimetype": "text/x-python",
   "name": "python",
   "nbconvert_exporter": "python",
   "pygments_lexer": "ipython3",
   "version": "3.9.7"
  }
 },
 "nbformat": 4,
 "nbformat_minor": 5
}
