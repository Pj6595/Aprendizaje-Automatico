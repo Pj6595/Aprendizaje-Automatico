{
 "cells": [
  {
   "cell_type": "markdown",
   "metadata": {},
   "source": [
    "# Práctica 6 - Support Vector Machines {-}\n",
    "Álvar Domingo Fernández y Pablo Jurado López"
   ]
  },
  {
   "cell_type": "markdown",
   "metadata": {},
   "source": [
    "### Preparación inicial {-}\n",
    "A continuación se importan todas las librerías y funciones externas que serán utilizadas en esta práctica."
   ]
  },
  {
   "cell_type": "code",
   "execution_count": null,
   "metadata": {},
   "outputs": [],
   "source": [
    "import numpy as np\n",
    "import matplotlib.pyplot as plt\n",
    "from scipy.io import loadmat\n",
    "from scipy.optimize import minimize\n",
    "from sklearn.svm import SVC\n",
    "from process_email import email2TokenList\n",
    "import codecs\n",
    "from get_vocab_dict import getVocabDict\n",
    "import glob\n",
    "import sklearn.model_selection as ms\n",
    "from sklearn.metrics import confusion_matrix\n",
    "import time"
   ]
  },
  {
   "cell_type": "markdown",
   "metadata": {},
   "source": [
    "## 1.1- Kernel lineal {-}\n",
    "Hemos clasificado los datos contenidos en ex6data1.mat con un SVM con un parámetro de regularización C=1 y una función de kernel lineal, y lo hemos renderizado en una gráfica. Posteriormente hemos repetido el mismo proceso, esta vez con un parámetro de regularización C = 100."
   ]
  },
  {
   "cell_type": "code",
   "execution_count": null,
   "metadata": {},
   "outputs": [],
   "source": [
    "def apartado1_1():\n",
    "    data = loadmat('ex6data1.mat')\n",
    "    X, y = data['X'], data['y'].ravel() \n",
    "    svm = SVC(kernel= 'linear', C = 1)\n",
    "    visualize_boundary(X, y, svm, \"apartado1_1_C1\")\n",
    "    svm = SVC(kernel= 'linear', C = 100)\n",
    "    visualize_boundary(X, y, svm, \"apartado1_1_C100\")"
   ]
  },
  {
   "cell_type": "markdown",
   "metadata": {},
   "source": [
    "![SVM lineal con C = 1](apartado1_1_C1.png)"
   ]
  },
  {
   "cell_type": "markdown",
   "metadata": {},
   "source": [
    "![SVM lineal con C = 100](apartado1_1_C100.png)"
   ]
  },
  {
   "cell_type": "markdown",
   "metadata": {},
   "source": [
    "## 1.2- Kernel gaussiano {-}\n",
    "Hemos repetido el proceso del apartado anterior, pero esta vez hemos utilizado una función de kernel gaussiana"
   ]
  },
  {
   "cell_type": "code",
   "execution_count": null,
   "metadata": {},
   "outputs": [],
   "source": [
    "def apartado1_2():\n",
    "    data = loadmat('ex6data2.mat')\n",
    "    X, y = data['X'], data['y'].ravel() \n",
    "    C = 1\n",
    "    sigma = 0.1 \n",
    "    svm = SVC(kernel= 'rbf', C = C, gamma=1 / (2 * sigma**2))\n",
    "    visualize_boundary(X, y, svm, \"apartado1_2\")"
   ]
  },
  {
   "cell_type": "markdown",
   "metadata": {},
   "source": [
    "![SVM con kernel gaussiano](apartado1_2.png)"
   ]
  },
  {
   "cell_type": "markdown",
   "metadata": {},
   "source": [
    "## 1.3- Elección de los parámetros C y $\\sigma$ {-}\n",
    "Hemos utilizado la función svm.score y probado con los siguientes valores para C y $\\sigma$: 0.01, 0.03, 0.1, 0.3, 1, 3, 10, 30."
   ]
  },
  {
   "cell_type": "code",
   "execution_count": null,
   "metadata": {},
   "outputs": [],
   "source": [
    "def apartado1_3():\n",
    "    data = loadmat('ex6data3.mat')\n",
    "    X = data['X']\n",
    "    y = data['y'].ravel()\n",
    "    Xval = data['Xval']\n",
    "    yval = data['yval'].ravel()\n",
    "    values = [0.01, 0.03, 0.1, 0.3, 1, 3, 10, 30]\n",
    "    n = len(values)\n",
    "    scores = np.zeros((n, n))\n",
    "\n",
    "    for i in range(n):\n",
    "        C = values[i]\n",
    "        for j in range(n):\n",
    "            sigma = values[j]\n",
    "            svm = SVC(kernel='rbf', C = C, gamma= 1 / (2 * sigma **2))\n",
    "            svm.fit(X, y.ravel())\n",
    "            scores[i, j] = svm.score(Xval, yval)\n",
    "\n",
    "    print(\"Error mínimo: {}\".format(1 - scores.max())) \n",
    "    C_opt = values[scores.argmax()//n]\n",
    "    sigma_opt = values[scores.argmax()%n]\n",
    "    print(\"C óptimo: {}, sigma óptimo: {}\".format(C_opt, sigma_opt))\n",
    "\n",
    "    svm = SVC(kernel= 'rbf', C = C_opt, gamma= 1 / (2 * sigma_opt ** 2))\n",
    "    visualize_boundary(X, y, svm, \"apartado1_3\")"
   ]
  },
  {
   "cell_type": "markdown",
   "metadata": {},
   "source": [
    "El resultado obtenido es el siguiente:\n",
    "Error mínimo: 0.03500000000000003\n",
    "C óptimo: 1, sigma óptimo: 0.1"
   ]
  }
 ],
 "metadata": {
  "language_info": {
   "name": "python"
  },
  "orig_nbformat": 4
 },
 "nbformat": 4,
 "nbformat_minor": 2
}
