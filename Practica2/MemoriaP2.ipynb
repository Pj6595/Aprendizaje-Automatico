{
 "cells": [
  {
   "cell_type": "markdown",
   "metadata": {},
   "source": [
    "# Práctica 2: Regresión logística {-}\n",
    "Álvar Domingo Fernández y Pablo Jurado López"
   ]
  },
  {
   "cell_type": "markdown",
   "id": "0fa25e15",
   "metadata": {
    "tags": []
   },
   "source": [
    "---\n",
    "\n",
    "### Preparación inicial {-}\n",
    "A continuación se importan todas las librerías que serán utilizadas en esta práctica y se indica el método que se utilizará para cargar los datos:"
   ]
  },
  {
   "cell_type": "code",
   "execution_count": null,
   "metadata": {},
   "outputs": [],
   "source": [
    "import numpy as np\n",
    "import matplotlib.pyplot as plt\n",
    "from pandas.io.parsers import read_csv\n",
    "import scipy.optimize as opt\n",
    "from sklearn.preprocessing import PolynomialFeatures\n",
    "\n",
    "\n",
    "def carga_csv(file_name):\n",
    "    return read_csv(file_name, header=None).to_numpy().astype(float)"
   ]
  },
  {
   "cell_type": "markdown",
   "metadata": {},
   "source": [
    "## 1.1 - Visualización de los datos {-}\n",
    "A partir de un fichero con los datos, hemos utilizado la libreria matplot para representarlos en una gráfica, representando de distinta forma los puntos que representan ser admitido o no admitido."
   ]
  },
  {
   "cell_type": "code",
   "execution_count": null,
   "metadata": {},
   "outputs": [],
   "source": [
    "data = carga_csv('ex2data1.csv')\n",
    "X = data[:, :-1]\n",
    "Y = data[:, -1]\n",
    "# Obtiene un vector con los índices de los ejemplos positivos\n",
    "pos = np.where(Y == 1)\n",
    "neg = np.where(Y == 0)\n",
    "\n",
    "# Dibuja los ejemplos positivos\n",
    "plt.figure(0)\n",
    "plt.scatter(X[pos, 0], X[pos, 1], marker='+', c='k', label='Admitted')\n",
    "plt.scatter(X[neg, 0], X[neg, 1], marker='o', c='g', label='Not admitted')\n",
    "plt.xlabel('Exam 1 score')\n",
    "plt.ylabel('Exam 2 score')\n",
    "plt.legend()\n",
    "plt.savefig('dataGraph1')"
   ]
  },
  {
   "cell_type": "markdown",
   "metadata": {},
   "source": [
    "![Representación inicial de los datos](dataGraph1.png)"
   ]
  },
  {
   "cell_type": "markdown",
   "metadata": {},
   "source": [
    "## 1.2 - Función sigmoide {-}\n",
    "Se ha implementado una función sigmoide, definida por la siguiente fórmula:\n",
    "$$g(z) = \\frac{1}{1+e^{-z}}$$"
   ]
  },
  {
   "cell_type": "code",
   "execution_count": null,
   "metadata": {},
   "outputs": [],
   "source": [
    "def sigmoide(target):\n",
    "    result = 1 / (1 + np.exp(-target))\n",
    "    return result"
   ]
  },
  {
   "cell_type": "markdown",
   "metadata": {},
   "source": [
    "## 1.3 - Cálculo de la función de coste y su gradiente {-}\n",
    "Se ha implementado la función de coste en regresión logística, que en forma vectorizada viene dada por la siguiente fórmula:\n",
    "$$J(\\theta) = \\frac{1}{m}\\left(-(\\log(g(X\\theta))^T y - (\\log(1 -g(X\\theta))^T (1-y)\\right)$$"
   ]
  },
  {
   "cell_type": "code",
   "execution_count": null,
   "metadata": {},
   "outputs": [],
   "source": [
    "def coste(theta, X, Y):\n",
    "    m = np.shape(X)[0]\n",
    "    H = sigmoide(np.matmul(X, theta))\n",
    "    return (np.dot(np.transpose(np.log(H)), Y) + np.dot(np.transpose(np.log(1-H)), (1-Y))) / -m"
   ]
  },
  {
   "cell_type": "markdown",
   "metadata": {},
   "source": [
    "También se ha implementado la función que obtiene el gradiente de la función de coste, que viene definida en su forma vectorizada por la siguiente fórmula:\n",
    "$$\\frac{\\delta J(\\theta)}{\\delta \\theta} = \\frac{1}{m} X^T \\left(g(X \\theta) - y\\right)$$"
   ]
  },
  {
   "cell_type": "code",
   "execution_count": null,
   "metadata": {},
   "outputs": [],
   "source": [
    "def gradiente(theta, X, Y):\n",
    "    m = np.shape(X)[0]\n",
    "    H = sigmoide(np.matmul(X, theta))\n",
    "    return (np.matmul(X.T, H - Y)) / m"
   ]
  },
  {
   "cell_type": "markdown",
   "metadata": {},
   "source": [
    "## 1.4 - Cálculo del valor óptimo de los parámetros {-}\n",
    "Se ha utilizado la función scipy.optimize.fmin_tnc de SciPy para hallar los parámetros $\\theta$ que minimizan la función de coste para la regresión del apartado anterior:"
   ]
  },
  {
   "cell_type": "code",
   "execution_count": null,
   "metadata": {},
   "outputs": [],
   "source": [
    "result = opt.fmin_tnc(func=coste, x0=theta, fprime=gradiente, args=(X, Y))\n",
    "theta_opt = result[0]\n",
    "print(coste(theta_opt, X, Y))"
   ]
  },
  {
   "cell_type": "markdown",
   "metadata": {},
   "source": [
    "El valor de la función de coste ha sido en este caso de aproximadamente 0.69"
   ]
  },
  {
   "cell_type": "markdown",
   "metadata": {},
   "source": [
    "A continuación se han representado los resultados en una gráfica que, gracias a este cálculo, también dibuja la frontera de decisión:"
   ]
  },
  {
   "cell_type": "code",
   "execution_count": null,
   "metadata": {},
   "outputs": [],
   "source": [
    "# Dibuja los ejemplos positivos\n",
    "plt.figure(0)\n",
    "x1_min, x1_max = X[:, 1].min(), X[:, 1].max()\n",
    "x2_min, x2_max = X[:, 1].min(), X[:, 2].max()\n",
    "\n",
    "xx1, xx2 = np.meshgrid(np.linspace(x1_min, x1_max),\n",
    "                       np.linspace(x2_min, x2_max))\n",
    "\n",
    "h = sigmoide(np.c_[np.ones((xx1.ravel().shape[0], 1)),\n",
    "                   xx1.ravel(),\n",
    "                   xx2.ravel()].dot(theta_opt))\n",
    "h = h.reshape(xx1.shape)\n",
    "\n",
    "plt.contour(xx1, xx2, h, [0.5], linewidths=1, colors='b')\n",
    "plt.savefig('dataGraph1line')\n",
    "plt.close()"
   ]
  },
  {
   "cell_type": "markdown",
   "metadata": {},
   "source": [
    "![Representación de los datos y su frontera de decisión](dataGraph1line.png)"
   ]
  },
  {
   "cell_type": "markdown",
   "metadata": {},
   "source": [
    "## 1.5 - Evaluación de la regresión logística {-}\n",
    "Se ha implementado una función que da como resultado el porcentaje de los casos de entrenamiento que se han clasificado de manera correcta, es decir, aquellos que han quedado en el lado correcto de la frontera de decisión en la imagen anterior:"
   ]
  },
  {
   "cell_type": "code",
   "execution_count": null,
   "metadata": {},
   "outputs": [],
   "source": [
    "prediccion = sigmoide(np.matmul(X, theta_opt))\n",
    "correctos = np.mean((prediccion >= 0.5) == Y)\n",
    "print(correctos)"
   ]
  },
  {
   "cell_type": "markdown",
   "metadata": {},
   "source": [
    "El resultado en este caso ha sido de un 89%"
   ]
  },
  {
   "cell_type": "markdown",
   "metadata": {},
   "source": [
    "## 2 - Regresión logística regularizada"
   ]
  }
 ],
 "metadata": {
  "interpreter": {
   "hash": "fe44fef87f92f48a3a32707d0df204585f471652bc0ce87358a3ce712bc24db0"
  },
  "kernelspec": {
   "display_name": "Python 3.9.7 64-bit",
   "name": "python3"
  },
  "language_info": {
   "codemirror_mode": {
    "name": "ipython",
    "version": 3
   },
   "file_extension": ".py",
   "mimetype": "text/x-python",
   "name": "python",
   "nbconvert_exporter": "python",
   "pygments_lexer": "ipython3",
   "version": "3.9.7"
  }
 },
 "nbformat": 4,
 "nbformat_minor": 4
}
